{
  "cells": [
    {
      "cell_type": "markdown",
      "metadata": {
        "id": "9yaWalgW_d7j"
      },
      "source": [
        "<img align=\"center\" style=\"max-width: 1000px\" src=\"https://raw.githubusercontent.com/HSG-AIML-Teaching/AI2025-Lab/main/banner.png?raw=1\">\n",
        "\n",
        "<img align=\"right\" style=\"max-width: 200px; height: auto\" src=\"https://raw.githubusercontent.com/HSG-AIML-Teaching/AI2025-Lab/main/hsg_logo.png?raw=1\">\n",
        "\n",
        "##  Lab 04 - Artificial Neural Networks (ANNs)\n",
        "\n",
        "Artificial Intelligence (Spring 2025), University of St. Gallen"
      ]
    },
    {
      "cell_type": "markdown",
      "metadata": {
        "id": "aR4Ywe2HWw1M"
      },
      "source": [
        "In this lab, we will learn how to implement, train, and apply our first **Artificial Neural Network (ANN)** using a Python library named `PyTorch`. The `PyTorch` library is an open-source machine learning library for Python, used for a variety of applications such as image classification and natural language processing. We will use the implemented neural network to learn to again classify images of fashion articles from the **Fashion-MNIST** dataset.\n",
        "\n",
        "The figure below illustrates a high-level view of the machine learning process we aim to establish in this lab:"
      ]
    },
    {
      "cell_type": "markdown",
      "metadata": {
        "id": "wgQ_ksmaWw1N"
      },
      "source": [
        "<img align=\"center\" style=\"max-width: 700px\" src=\"https://raw.githubusercontent.com/HSG-AIML-Teaching/AI2025-Lab/main/lab_04/images/classification.png?raw=1\">"
      ]
    },
    {
      "cell_type": "markdown",
      "metadata": {
        "id": "aut1dJXmWw1O"
      },
      "source": [
        "## 1. Lab Objectives:"
      ]
    },
    {
      "cell_type": "markdown",
      "metadata": {
        "id": "7tb0svb4Ww1O"
      },
      "source": [
        "After today's lab, you should be able to:\n",
        "\n",
        "> 1. Understand the basic concepts, intuitions and major building blocks of **Artificial Neural Networks (ANNs)**.\n",
        "> 2. Know how to use Python's **PyTorch library** to train and evaluate neural network based models.\n",
        "> 3. Understand how to apply neural networks to **classify images** of handwritten digits.\n",
        "> 4. Know how to **interpret the networks classification results** and **confusion matrix**.\n",
        "\n",
        "\n",
        "\n",
        "As always, pls. don't hesitate to ask all your questions either during the lab, post them in our CANVAS (StudyNet) forum (https://learning.unisg.ch), or send us an email (using the course email)."
      ]
    },
    {
      "cell_type": "markdown",
      "metadata": {
        "id": "Ks081EJEWw1P"
      },
      "source": [
        "## 2. Libraries and Settings"
      ]
    },
    {
      "cell_type": "markdown",
      "metadata": {
        "id": "mdmhjYHFWw1P"
      },
      "source": [
        "Similar to the previous labs, we need to import a couple of Python libraries that allow for data analysis and data visualization. We will mostly use the `PyTorch`, `Numpy`, `Scikit-Learn`, `Matplotlib` and the `Seaborn` and a few utility libraries throughout this lab:"
      ]
    },
    {
      "cell_type": "code",
      "execution_count": 1,
      "metadata": {
        "id": "5rDvIKj-Ww1P",
        "metadata": {}
      },
      "outputs": [],
      "source": [
        "# import standard python libraries\n",
        "from datetime import datetime\n",
        "import numpy as np"
      ]
    },
    {
      "cell_type": "markdown",
      "metadata": {
        "id": "heUZY7dgWw1Q"
      },
      "source": [
        "Import the Python machine / deep learning libraries:"
      ]
    },
    {
      "cell_type": "code",
      "execution_count": 2,
      "metadata": {
        "id": "-RTb4Mc1Ww1Q",
        "metadata": {}
      },
      "outputs": [],
      "source": [
        "# import the PyTorch deep learning libary\n",
        "import torch, torchvision\n",
        "from torch import nn, optim"
      ]
    },
    {
      "cell_type": "markdown",
      "metadata": {
        "id": "FRpZfSImWw1R"
      },
      "source": [
        "Import the sklearn classification metrics:"
      ]
    },
    {
      "cell_type": "code",
      "execution_count": 3,
      "metadata": {
        "id": "VJ180J4sWw1R",
        "metadata": {}
      },
      "outputs": [],
      "source": [
        "# import sklearn classification evaluation library\n",
        "from sklearn import metrics\n",
        "from sklearn.metrics import confusion_matrix"
      ]
    },
    {
      "cell_type": "markdown",
      "metadata": {
        "id": "5tatoV81Ww1R"
      },
      "source": [
        "Import Python plotting libraries:"
      ]
    },
    {
      "cell_type": "code",
      "execution_count": 4,
      "metadata": {
        "id": "fTSNWwejWw1R",
        "metadata": {}
      },
      "outputs": [],
      "source": [
        "# import matplotlib, seaborn, and PIL data visualization libary\n",
        "import matplotlib.pyplot as plt\n",
        "import seaborn as sns\n",
        "# from PIL import Image"
      ]
    },
    {
      "cell_type": "markdown",
      "metadata": {
        "id": "g83bVkFrWw1S"
      },
      "source": [
        "Enable notebook matplotlib inline plotting:"
      ]
    },
    {
      "cell_type": "code",
      "execution_count": 5,
      "metadata": {
        "id": "i0MKI98CWw1S",
        "metadata": {}
      },
      "outputs": [],
      "source": [
        "%matplotlib inline"
      ]
    },
    {
      "cell_type": "markdown",
      "metadata": {
        "id": "32BCRqyA5cD5"
      },
      "source": [
        "Set a random `seed` value to obtain reproducable results:"
      ]
    },
    {
      "cell_type": "code",
      "execution_count": 6,
      "metadata": {
        "id": "D3cPTu1R5cmj",
        "metadata": {},
        "colab": {
          "base_uri": "https://localhost:8080/"
        },
        "outputId": "b7bc8eb2-bb08-478f-89d1-43cda3e6fee2"
      },
      "outputs": [
        {
          "output_type": "execute_result",
          "data": {
            "text/plain": [
              "<torch._C.Generator at 0x7900adc35ed0>"
            ]
          },
          "metadata": {},
          "execution_count": 6
        }
      ],
      "source": [
        "# init deterministic seed\n",
        "seed_value = 1234\n",
        "np.random.seed(seed_value) # set numpy seed\n",
        "torch.manual_seed(seed_value) # set pytorch seed CPU"
      ]
    },
    {
      "cell_type": "markdown",
      "metadata": {
        "id": "BHMs9Gf0wakv"
      },
      "source": [
        "Google Colab provides the use of free GPUs for running notebooks. However, if you just execute this notebook as is, it will use your device's CPU. To run the lab on a GPU, got to `Runtime` > `Change runtime type` and set the Runtime type to `GPU` in the drop-down. Running this lab on a CPU is fine, but you will find that GPU computing is faster. *CUDA* indicates that the lab is being run on GPU.\n",
        "\n",
        "Enable GPU computing by setting the device flag and init a CUDA seed:"
      ]
    },
    {
      "cell_type": "code",
      "execution_count": 7,
      "metadata": {
        "id": "Fl2UHzshwdyk",
        "metadata": {},
        "colab": {
          "base_uri": "https://localhost:8080/"
        },
        "outputId": "b572d0f6-d3ad-4ad3-da7a-4fd9a665d769"
      },
      "outputs": [
        {
          "output_type": "stream",
          "name": "stdout",
          "text": [
            "[LOG] notebook with cuda computation enabled\n"
          ]
        }
      ],
      "source": [
        "# set cpu or gpu enabled device\n",
        "# use 'mps' for MacOS >= macOS 10.15 (Catalina)\n",
        "device = torch.device('cuda' if torch.cuda.is_available() else 'cpu').type\n",
        "\n",
        "# init deterministic GPU seed\n",
        "torch.cuda.manual_seed(seed_value)\n",
        "\n",
        "# log type of device enabled\n",
        "print('[LOG] notebook with {} computation enabled'.format(str(device)))"
      ]
    },
    {
      "cell_type": "markdown",
      "source": [],
      "metadata": {
        "id": "-G3-nl-mxJvY"
      }
    },
    {
      "cell_type": "markdown",
      "metadata": {
        "id": "vyqnqndjWw1S"
      },
      "source": [
        "## 3. Dataset Download and Data Assessment"
      ]
    },
    {
      "cell_type": "markdown",
      "metadata": {
        "id": "wgyKo34eWw1T"
      },
      "source": [
        "The **Fashion-MNIST database** is a large database of Zalando articles that is commonly used for training various image processing systems. The database is widely used for training and testing in the field of machine learning. Let's have a brief look into a couple of sample images contained in the dataset:"
      ]
    },
    {
      "cell_type": "markdown",
      "metadata": {
        "id": "-q9TexBXWw1T"
      },
      "source": [
        "<img align=\"center\" style=\"max-width: 700px; height: 300px\" src=\"https://raw.githubusercontent.com/HSG-AIML-Teaching/AI2025-Lab/main/lab_04/images/FashionMNIST.png?raw=1\">\n",
        "\n",
        "Source: https://www.kaggle.com/c/insar-fashion-mnist-challenge"
      ]
    },
    {
      "cell_type": "markdown",
      "metadata": {
        "id": "4YEOHPO5Ww1T"
      },
      "source": [
        "Further details on the dataset can be obtained via Zalando research's [github page](https://github.com/zalandoresearch/fashion-mnist)."
      ]
    },
    {
      "cell_type": "markdown",
      "metadata": {
        "id": "_B6cw9iEWw1T"
      },
      "source": [
        "The **Fashion-MNIST database** is an image dataset of Zalando's article images, consisting of in total 70,000 images.\n",
        "\n",
        "The dataset is divided into a set of **60,000 training examples** and a set of **10,000 evaluation examples**. Each example is a **28x28 grayscale image**, associated with a **label from 10 classes**. Zalando created this dataset with the intention of providing a replacement for the popular **MNIST** handwritten digits dataset. It is a useful addition as it is a bit more complex, but still very easy to use. It shares the same image size and train/test split structure as MNIST, and can therefore be used as a drop-in replacement. It requires minimal efforts on preprocessing and formatting the distinct images."
      ]
    },
    {
      "cell_type": "markdown",
      "metadata": {
        "id": "k4fUsNeLWw1V"
      },
      "source": [
        "Now, let's download the training data accordingly:"
      ]
    },
    {
      "cell_type": "code",
      "execution_count": 8,
      "metadata": {
        "id": "X-GZL31YWw1W",
        "metadata": {},
        "colab": {
          "base_uri": "https://localhost:8080/"
        },
        "outputId": "a5910f99-0369-4911-bb58-3522cde397d0"
      },
      "outputs": [
        {
          "output_type": "stream",
          "name": "stderr",
          "text": [
            "100%|██████████| 26.4M/26.4M [00:02<00:00, 12.7MB/s]\n",
            "100%|██████████| 29.5k/29.5k [00:00<00:00, 200kB/s]\n",
            "100%|██████████| 4.42M/4.42M [00:01<00:00, 3.73MB/s]\n",
            "100%|██████████| 5.15k/5.15k [00:00<00:00, 10.4MB/s]\n"
          ]
        }
      ],
      "source": [
        "# define pytorch transformation into tensor format\n",
        "transf = torchvision.transforms.ToTensor()\n",
        "\n",
        "# download and transform training images\n",
        "fashion_mnist_train_data = torchvision.datasets.FashionMNIST(root=\"./data\", train=True, transform=transf, download=True)"
      ]
    },
    {
      "cell_type": "markdown",
      "metadata": {
        "id": "HaLuUXc4Ww1W"
      },
      "source": [
        "Verify the number of training images downloaded:"
      ]
    },
    {
      "cell_type": "code",
      "execution_count": 9,
      "metadata": {
        "id": "OmRdyfxFWw1W",
        "metadata": {},
        "colab": {
          "base_uri": "https://localhost:8080/"
        },
        "outputId": "969c736f-bfb3-4ca5-e7cd-d4ef5b51eb61"
      },
      "outputs": [
        {
          "output_type": "execute_result",
          "data": {
            "text/plain": [
              "60000"
            ]
          },
          "metadata": {},
          "execution_count": 9
        }
      ],
      "source": [
        "# determine the number of training data images\n",
        "len(fashion_mnist_train_data)"
      ]
    },
    {
      "cell_type": "markdown",
      "metadata": {
        "id": "wtbIaCpLWw1W"
      },
      "source": [
        "Furthermore, let's inspect a couple of the downloaded training images:"
      ]
    },
    {
      "cell_type": "code",
      "execution_count": 10,
      "metadata": {
        "id": "gAtYOeUPWw1X",
        "metadata": {},
        "colab": {
          "base_uri": "https://localhost:8080/"
        },
        "outputId": "dbf20ed3-89a2-4202-ec39-8597c11e3a5d"
      },
      "outputs": [
        {
          "output_type": "stream",
          "name": "stdout",
          "text": [
            "torch.Size([1, 28, 28])\n",
            "6\n"
          ]
        }
      ],
      "source": [
        "# select and set a (random) image id\n",
        "image_id = 3000\n",
        "\n",
        "# retrieve image exhibiting the image id\n",
        "sample_image, sample_label = fashion_mnist_train_data[image_id]\n",
        "print(sample_image.shape)\n",
        "print(sample_label)"
      ]
    },
    {
      "cell_type": "markdown",
      "metadata": {
        "id": "ctD4Dl0C_7RE"
      },
      "source": [
        "Ok, we know that the numerical label is 6. Each image is associated with a label from 0 to 9, and this number represents one of the fashion items. So what does 6 mean? Is 6 a bag? A pullover? The order of the classes can be found on Zalando research's [github page](https://github.com/zalandoresearch/fashion-mnist). We need to map each numerical label to its fashion item, which will be useful throughout the lab:"
      ]
    },
    {
      "cell_type": "code",
      "execution_count": 11,
      "metadata": {
        "id": "FmzSMz1FASrm",
        "metadata": {}
      },
      "outputs": [],
      "source": [
        "fashion_classes = {0: 'T-shirt/top',\n",
        "                    1: 'Trouser',\n",
        "                    2: 'Pullover',\n",
        "                    3: 'Dress',\n",
        "                    4: 'Coat',\n",
        "                    5: 'Sandal',\n",
        "                    6: 'Shirt',\n",
        "                    7: 'Sneaker',\n",
        "                    8: 'Bag',\n",
        "                    9: 'Ankle boot'}"
      ]
    },
    {
      "cell_type": "markdown",
      "metadata": {
        "id": "sDvW1PUdKn3a"
      },
      "source": [
        "So, we can determine the fashion item that the label represents:"
      ]
    },
    {
      "cell_type": "code",
      "execution_count": 12,
      "metadata": {
        "id": "N8KrM8rfKnHh",
        "metadata": {},
        "colab": {
          "base_uri": "https://localhost:8080/",
          "height": 36
        },
        "outputId": "4e6fd9d5-3bf1-46c4-e5d2-17990639398a"
      },
      "outputs": [
        {
          "output_type": "execute_result",
          "data": {
            "text/plain": [
              "'Shirt'"
            ],
            "application/vnd.google.colaboratory.intrinsic+json": {
              "type": "string"
            }
          },
          "metadata": {},
          "execution_count": 12
        }
      ],
      "source": [
        "fashion_classes[sample_label]"
      ]
    },
    {
      "cell_type": "markdown",
      "metadata": {
        "id": "JozKTGsCWw1X"
      },
      "source": [
        "Great, let's now visually inspect our sample image:"
      ]
    },
    {
      "cell_type": "code",
      "execution_count": 13,
      "metadata": {
        "id": "D80b3WkWWw1Y",
        "metadata": {},
        "colab": {
          "base_uri": "https://localhost:8080/",
          "height": 470
        },
        "outputId": "927dce5a-927f-4b23-930c-0e312bceed1b"
      },
      "outputs": [
        {
          "output_type": "execute_result",
          "data": {
            "text/plain": [
              "<matplotlib.image.AxesImage at 0x78ffaaaf4cd0>"
            ]
          },
          "metadata": {},
          "execution_count": 13
        },
        {
          "output_type": "display_data",
          "data": {
            "text/plain": [
              "<Figure size 640x480 with 1 Axes>"
            ],
            "image/png": "[encoded data removed]"
          },
          "metadata": {}
        }
      ],
      "source": [
        "# define tensor to image transformation\n",
        "trans = torchvision.transforms.ToPILImage()\n",
        "\n",
        "# set image plot title\n",
        "plt.title('Example: {}, Label: {}'.format(str(image_id), fashion_classes[sample_label]))\n",
        "\n",
        "# plot mnist handwritten digit sample\n",
        "plt.imshow(trans(sample_image), cmap='gray')"
      ]
    },
    {
      "cell_type": "markdown",
      "metadata": {
        "id": "dNNTmyI7Ww1b"
      },
      "source": [
        "And download the evaluation data accordingly:"
      ]
    },
    {
      "cell_type": "code",
      "execution_count": 14,
      "metadata": {
        "id": "PvIBdhlPWw1b",
        "metadata": {}
      },
      "outputs": [],
      "source": [
        "# define pytorch transformation into tensor format\n",
        "transf = torchvision.transforms.ToTensor()\n",
        "\n",
        "# download and transform training images\n",
        "fashion_mnist_eval_data = torchvision.datasets.FashionMNIST(root=\"./data\", train=False, transform=transf, download=True)"
      ]
    },
    {
      "cell_type": "markdown",
      "metadata": {
        "id": "4skfCFEfWw1c"
      },
      "source": [
        "Let's also verify the number of evaluation images downloaded:"
      ]
    },
    {
      "cell_type": "code",
      "execution_count": 15,
      "metadata": {
        "id": "Oq3rW2wKWw1c",
        "metadata": {},
        "colab": {
          "base_uri": "https://localhost:8080/"
        },
        "outputId": "a49bdbba-faa9-4816-bb23-8ec0cb873b56"
      },
      "outputs": [
        {
          "output_type": "execute_result",
          "data": {
            "text/plain": [
              "10000"
            ]
          },
          "metadata": {},
          "execution_count": 15
        }
      ],
      "source": [
        "# determine the number of evaluation data images\n",
        "len(fashion_mnist_eval_data)"
      ]
    },
    {
      "cell_type": "markdown",
      "metadata": {
        "id": "ucTxc7GGWw1c"
      },
      "source": [
        "## 4. Neural Network Implementation"
      ]
    },
    {
      "cell_type": "markdown",
      "metadata": {
        "id": "xTQ_VZWaWw1d"
      },
      "source": [
        "In this section we, will implement the architecture of the **neural network** we aim to utilize to learn a model that is capable to classify the 28x28 pixel FashionMNIST images of fashion items. However, before we start the implementation let's briefly revisit the process to be established. The following cartoon provides a birds-eye view:"
      ]
    },
    {
      "cell_type": "markdown",
      "metadata": {
        "id": "9i5LlBmiWw1d"
      },
      "source": [
        "<img align=\"center\" style=\"max-width: 1000px\" src=\"https://raw.githubusercontent.com/HSG-AIML-Teaching/AI2025-Lab/main/lab_04/images/process.png?raw=1\">"
      ]
    },
    {
      "cell_type": "markdown",
      "metadata": {
        "id": "OyofP39KWw1d"
      },
      "source": [
        "### 4.1 Implementation of the Neural Network Architecture"
      ]
    },
    {
      "cell_type": "markdown",
      "metadata": {
        "id": "loUEinm1Ww1e"
      },
      "source": [
        "The neural network, which we name **'FashionMNISTNet'** consists of three **fully-connected layers** (including an “input layer” and two hidden layers). Furthermore, the **FashionMNISTNet** should encompass the following number of neurons per layer: 100 (layer 1), 50 (layer 2) and 10 (layer 3). Meaning the first layer consists of 100 neurons, the second layer of 50 neurons and third layer of 10 neurons (the number of digit classes we aim to classify."
      ]
    },
    {
      "cell_type": "markdown",
      "metadata": {
        "id": "FGxSr-77Ww1e"
      },
      "source": [
        "We will now start implementing the network architecture as a separate Python class. Implementing the network architectures as a **separate class** in Python is good practice in deep learning projects. It will allow us to create and train several instances of the same neural network architecture. This provides us, for example, the opportunity to evaluate different initializations of the network parameters or train models using distinct datasets."
      ]
    },
    {
      "cell_type": "code",
      "execution_count": 16,
      "metadata": {
        "id": "VLrELu2EWw1f",
        "metadata": {}
      },
      "outputs": [],
      "source": [
        "# implement the MNISTNet network architecture\n",
        "class FashionMNISTNet(nn.Module):\n",
        "\n",
        "    # define the class constructor\n",
        "    def __init__(self):\n",
        "\n",
        "        # call super class constructor\n",
        "        super(FashionMNISTNet, self).__init__()\n",
        "\n",
        "        # specify fully-connected (fc) layer 1 - in 28*28, out 100\n",
        "        self.linear1 = nn.Linear(28*28, 100, bias=True) # the linearity W*x+b\n",
        "        self.relu1 = nn.ReLU(inplace=True) # the non-linearity\n",
        "\n",
        "        # specify fc layer 2 - in 100, out 50\n",
        "        self.linear2 = nn.Linear(100, 50, bias=True) # the linearity W*x+b\n",
        "        self.relu2 = nn.ReLU(inplace=True) # the non-linarity\n",
        "\n",
        "        # specify fc layer 3 - in 50, out 10\n",
        "        self.linear3 = nn.Linear(50, 10) # the linearity W*x+b\n",
        "\n",
        "    # define network forward pass\n",
        "    def forward(self, images):\n",
        "\n",
        "        # reshape image pixels\n",
        "        x = images.view(-1, 28*28)\n",
        "\n",
        "        # define fc layer 1 forward pass\n",
        "        x = self.relu1(self.linear1(x))\n",
        "\n",
        "        # define fc layer 2 forward pass\n",
        "        x = self.relu2(self.linear2(x))\n",
        "\n",
        "        # define layer 3 forward pass\n",
        "        x = self.linear3(x)\n",
        "\n",
        "        # return forward pass result\n",
        "        return x"
      ]
    },
    {
      "cell_type": "markdown",
      "metadata": {
        "id": "Xy63DaNzWw1f"
      },
      "source": [
        "You may have noticed, that the **'Softmax'** operator is not included in the implementation above. That is because the softmax function is part of the nn.CrossEntropy (i.e. the loss function) implementation.\n",
        "\n",
        "The **softmax function**, also known as the normalized exponential function, is a function that takes as input a vector of K real numbers, and normalizes it into a probability distribution consisting of K probabilities.\n",
        "\n",
        "That is, prior to applying softmax, some vector components could be negative, or greater than one; and might not sum to 1; but after application of the softmax, each component will be in the interval $(0,1)$, and the components will add up to 1, so that they can be interpreted as probabilities. In general, the softmax function $\\sigma :\\mathbb {R} ^{K}\\to \\mathbb {R} ^{K}$ is defined by the formula:"
      ]
    },
    {
      "cell_type": "markdown",
      "metadata": {
        "id": "s5s_1Q7NWw1f"
      },
      "source": [
        "${\\large \\sigma (\\mathbf {z_i} )=\\frac{e^{z_{i}}} {\\sum _{j=1}^{K}e^{z_{j}}}}$"
      ]
    },
    {
      "cell_type": "markdown",
      "metadata": {
        "id": "E9JtxNu4Ww1f"
      },
      "source": [
        "for $i = 1, …, K$ and ${\\mathbf {z}}=(z_{1},\\ldots ,z_{K})\\in \\mathbb {R} ^{K}$ (Source: https://en.wikipedia.org/wiki/Softmax_function ).\n",
        "\n",
        "Let's have a look at the simplified three-class example below. The scores of the distinct predicted classes $c_i$ are computed from the forward propagation of the network. We then take the softmax and obtain the probabilities as shown:"
      ]
    },
    {
      "cell_type": "markdown",
      "metadata": {
        "id": "1ULWQ3RmWw1f"
      },
      "source": [
        "<img align=\"center\" style=\"max-width: 800px\" src=\"https://raw.githubusercontent.com/HSG-AIML-Teaching/AI2025-Lab/main/lab_04/images/softmax.gif\">"
      ]
    },
    {
      "cell_type": "markdown",
      "metadata": {
        "id": "zcrCZgZqWw1g"
      },
      "source": [
        "The output of the softmax describes the probability (or if you may, the confidence) of the neural network that a particular sample belongs to a certain class. Thus, for the first example above, the neural network assigns a confidence of 0.49 that it is a 'three', 0.49 that it is a 'four', and 0.03 that it is an 'eight'. The same goes for each of the samples above.\n",
        "\n",
        "Now, that we have implemented our first neural network we are ready to instantiate a network model to be trained:"
      ]
    },
    {
      "cell_type": "code",
      "execution_count": 17,
      "metadata": {
        "id": "zfvFFCCHWw1g",
        "metadata": {}
      },
      "outputs": [],
      "source": [
        "model = FashionMNISTNet()"
      ]
    },
    {
      "cell_type": "markdown",
      "metadata": {
        "id": "efX9IOPSw8DZ"
      },
      "source": [
        "Let's push the initialized `FashionMNISTNet` model to the computing `device` that is enabled:"
      ]
    },
    {
      "cell_type": "code",
      "execution_count": 18,
      "metadata": {
        "id": "W93HbADVw8qe",
        "metadata": {}
      },
      "outputs": [],
      "source": [
        "model = model.to(device)"
      ]
    },
    {
      "cell_type": "markdown",
      "metadata": {
        "id": "2yt4PtPLWw1g"
      },
      "source": [
        "Once the model is initialized, we can visualize the model structure and review the implemented network architecture by execution of the following cell:"
      ]
    },
    {
      "cell_type": "code",
      "execution_count": 19,
      "metadata": {
        "id": "SF90-Nk1Ww1g",
        "metadata": {},
        "colab": {
          "base_uri": "https://localhost:8080/"
        },
        "outputId": "54f0dc7c-daea-41ee-db17-e703f99b5204"
      },
      "outputs": [
        {
          "output_type": "stream",
          "name": "stdout",
          "text": [
            "[LOG] FashionMNISTNet architecture:\n",
            "\n",
            "FashionMNISTNet(\n",
            "  (linear1): Linear(in_features=784, out_features=100, bias=True)\n",
            "  (relu1): ReLU(inplace=True)\n",
            "  (linear2): Linear(in_features=100, out_features=50, bias=True)\n",
            "  (relu2): ReLU(inplace=True)\n",
            "  (linear3): Linear(in_features=50, out_features=10, bias=True)\n",
            ")\n",
            "\n"
          ]
        }
      ],
      "source": [
        "# print the initialized architectures\n",
        "print('[LOG] FashionMNISTNet architecture:\\n\\n{}\\n'.format(model))"
      ]
    },
    {
      "cell_type": "markdown",
      "metadata": {
        "id": "PFKJMIjKWw1g"
      },
      "source": [
        "Looks like intended? Brilliant! Finally, let's have a look into the number of model parameters that we aim to train in the next steps of the notebook:"
      ]
    },
    {
      "cell_type": "code",
      "execution_count": 20,
      "metadata": {
        "id": "wFOWHzJ3Ww1h",
        "metadata": {},
        "colab": {
          "base_uri": "https://localhost:8080/"
        },
        "outputId": "11fc8722-2f4e-4f69-ab62-53ccadd6d3c4"
      },
      "outputs": [
        {
          "output_type": "stream",
          "name": "stdout",
          "text": [
            "[LOG] Number of to be trained FashionMNISTNet model parameters: 84060.\n"
          ]
        }
      ],
      "source": [
        "# init the number of model parameters\n",
        "num_params = 0\n",
        "\n",
        "# iterate over the distinct parameters\n",
        "for param in model.parameters():\n",
        "\n",
        "    # collect number of parameters\n",
        "    num_params += param.numel()\n",
        "\n",
        "# print the number of model paramters\n",
        "print('[LOG] Number of to be trained FashionMNISTNet model parameters: {}.'.format(num_params))"
      ]
    },
    {
      "cell_type": "markdown",
      "metadata": {
        "id": "vY9rZQ7JWw1h"
      },
      "source": [
        "Ok, our \"simple\" FashionMNISTNet model already encompasses an impressive number 84'060 model parameters to be trained."
      ]
    },
    {
      "cell_type": "markdown",
      "metadata": {
        "id": "pytnqULPWw1h"
      },
      "source": [
        "### 4.2 Specification of the Neural Network Loss Function"
      ]
    },
    {
      "cell_type": "markdown",
      "metadata": {
        "id": "bHpHWQ7JWw1h"
      },
      "source": [
        "Now that we have implemented the **FashionMNISTNet** we are ready to train the network. However, prior to starting the training, we need to define an appropriate loss function. Remember, we aim to train our model to learn a set of model parameters $\\theta$ that minimize the classification error of the true class $c_{i}$ of a given handwritten digit image $x_{i}$ and its predicted class $\\hat{c}_{i} = f_\\theta(x_{i})$ as faithfully as possible.\n",
        "\n",
        "Thereby, the training objective is to learn a set of optimal model parameters $\\theta^*$ that improve the classification accuracy in all training images in the FashionMNIST dataset. To achieve this optimization objective, one typically minimizes a loss function $\\mathcal{L_{\\theta}}$ as part of the network training. In this lab we use the **'Cross-entropy'** loss, defined by:\n",
        "\n",
        "$\\mathcal{L}^{NLL}_{\\theta} (c_i, \\hat c_i) = - \\frac{1}{N} \\sum_{i=1}^N c_i \\log (\\hat{c}_i) $"
      ]
    },
    {
      "cell_type": "markdown",
      "metadata": {
        "id": "ID9HqJJqWw1h"
      },
      "source": [
        "for a set of $n$-FashionMNIST images $x_{i}$, $i=1,...,n$ and their respective prediction and ground-truth probabilities $c_{i}$ and $\\hat{c}_{i}$. This is summed for all the correct classes."
      ]
    },
    {
      "cell_type": "markdown",
      "metadata": {
        "id": "HcObuMZfWw1i"
      },
      "source": [
        "During training the **Cross-entropy** loss will penalize models that result in a high classification error between the predicted class labels $\\hat{c}_{i}$ and their respective true class label $c_{i}$. Luckily, an implementation of the Cross-entropy loss is already available in PyTorch! It can be instantiated \"off-the-shelf\" via the execution of the following PyTorch command:"
      ]
    },
    {
      "cell_type": "code",
      "execution_count": 21,
      "metadata": {
        "id": "qbgFFIDjWw1i",
        "metadata": {}
      },
      "outputs": [],
      "source": [
        "# define the optimization criterion / loss function\n",
        "ce_loss = nn.CrossEntropyLoss()"
      ]
    },
    {
      "cell_type": "markdown",
      "metadata": {
        "id": "YbspDM2dxGrO"
      },
      "source": [
        "Let's also push the initialized `ce_loss` computation to the computing `device` that is enabled:"
      ]
    },
    {
      "cell_type": "code",
      "execution_count": 22,
      "metadata": {
        "id": "RgKeoEcaxIdB",
        "metadata": {}
      },
      "outputs": [],
      "source": [
        "ce_loss = ce_loss.to(device)"
      ]
    },
    {
      "cell_type": "markdown",
      "metadata": {
        "id": "hJhKTaHnWw1i"
      },
      "source": [
        "## 5. Neural Network Model Training"
      ]
    },
    {
      "cell_type": "markdown",
      "metadata": {
        "id": "uRwd3R8XWw1i"
      },
      "source": [
        "In this section, we will train our neural network model (as implemented in the section above) using the transformed images of fashion items. More specifically, we will have a detailed look into the distinct training steps as well as how to monitor the training progress."
      ]
    },
    {
      "cell_type": "markdown",
      "metadata": {
        "id": "OKbH8GgrWw1i"
      },
      "source": [
        "### 5.1. Preparing the Network Training"
      ]
    },
    {
      "cell_type": "markdown",
      "metadata": {
        "id": "1K23pmmEWw1j"
      },
      "source": [
        "So far, we have pre-processed the dataset, implemented the ANN and defined the classification error. Let's now start to train a corresponding model for **20 epochs** and a **mini-batch size of 128** FashionMNIST images per batch. This implies that the whole dataset will be fed to the ANN 20 times in chunks of 128 images yielding to **469 mini-batches** (60.000 images / 128 images per mini-batch) per epoch."
      ]
    },
    {
      "cell_type": "code",
      "execution_count": 23,
      "metadata": {
        "id": "4bMEnxc1Ww1j",
        "metadata": {}
      },
      "outputs": [],
      "source": [
        "# specify the training parameters\n",
        "num_epochs = 20 # number of training epochs\n",
        "mini_batch_size = 128 # size of the mini-batches"
      ]
    },
    {
      "cell_type": "markdown",
      "metadata": {
        "id": "jX99_DY7Ww1j"
      },
      "source": [
        "Based on the loss magnitude of a certain mini-batch PyTorch automatically computes the gradients. But even better, based on the gradient, the library also helps us in the optimization and update of the network parameters $\\theta$.\n",
        "\n",
        "We will use the **Stochastic Gradient Descent (SGD) optimization** and set the learning-rate $l = 0.001$. Each mini-batch step the optimizer will update the model parameters $\\theta$ values according to the degree of classification error (the MSE loss)."
      ]
    },
    {
      "cell_type": "code",
      "execution_count": 24,
      "metadata": {
        "id": "84Oq2woEWw1j",
        "metadata": {}
      },
      "outputs": [],
      "source": [
        "# define learning rate and optimization strategy\n",
        "learning_rate = 0.001\n",
        "optimizer = optim.SGD(params=model.parameters(), lr=learning_rate)"
      ]
    },
    {
      "cell_type": "markdown",
      "metadata": {
        "id": "HX8MBSDxWw1k"
      },
      "source": [
        "Now that we have successfully implemented and defined the three ANN building blocks let's take some time to review the `FashionMNISTNet` model definition as well as the `loss`. Please, read the above code and comments carefully and don't hesitate to let us know any questions you might have."
      ]
    },
    {
      "cell_type": "markdown",
      "metadata": {
        "id": "XO1P2wb3Ww1k"
      },
      "source": [
        "Furthermore, lets specify and instantiate a corresponding PyTorch data loader that feeds the image tensors to our neural network:"
      ]
    },
    {
      "cell_type": "code",
      "execution_count": 25,
      "metadata": {
        "id": "vyLwFEMXWw1l",
        "metadata": {}
      },
      "outputs": [],
      "source": [
        "fashion_mnist_train_dataloader = torch.utils.data.DataLoader(fashion_mnist_train_data, batch_size=mini_batch_size, shuffle=True)"
      ]
    },
    {
      "cell_type": "markdown",
      "metadata": {
        "id": "Tp6hmrg7Ww1l"
      },
      "source": [
        "### 5.2. Running the Network Training"
      ]
    },
    {
      "cell_type": "markdown",
      "metadata": {
        "id": "Ov5Z6NLvWw1m"
      },
      "source": [
        "Finally, we start training the model. The detailed training procedure for each mini-batch is performed as follows:\n",
        "\n",
        ">1. do a forward pass through the FashionMNISTNet network,\n",
        ">2. compute the cross-entropy loss $\\mathcal{L}^{CE}_{\\theta}(c^{i};\\hat{c}^{i})$,\n",
        ">3. do a backward pass through the FashionMNISTNet network, and\n",
        ">4. update the parameters of the network $f_\\theta(\\cdot)$.\n",
        "\n",
        "<img align=\"center\" style=\"max-width: 400px\" src=\"https://raw.githubusercontent.com/HSG-AIML-Teaching/AI2025-Lab/main/lab_04/images/training_proc.png\">\n",
        "\n",
        "To ensure learning while training our ANN model, we will monitor whether the loss decreases with progressing training. Therefore, we obtain and evaluate the classification performance of the entire training dataset after each training epoch. Based on this evaluation, we can conclude on the training progress and whether the loss is converging (indicating that the model might not improve any further).\n",
        "\n",
        "The following elements of the network training code below should be given particular attention:\n",
        "\n",
        ">- `loss.backward()` computes the gradients based on the magnitude of the reconstruction loss,\n",
        ">- `optimizer.step()` updates the network parameters based on the gradient."
      ]
    },
    {
      "cell_type": "code",
      "execution_count": 26,
      "metadata": {
        "id": "70W8AZWlWw1m",
        "metadata": {},
        "colab": {
          "base_uri": "https://localhost:8080/"
        },
        "outputId": "11f16582-4351-44ab-9f71-8e8123df84b6"
      },
      "outputs": [
        {
          "output_type": "stream",
          "name": "stdout",
          "text": [
            "[LOG 20250506-07:58:09] epoch: 0 train-loss: 2.2857209070404965\n",
            "[LOG 20250506-07:58:15] epoch: 1 train-loss: 2.2358492523876587\n",
            "[LOG 20250506-07:58:21] epoch: 2 train-loss: 2.17368136285973\n",
            "[LOG 20250506-07:58:29] epoch: 3 train-loss: 2.0877645607950335\n",
            "[LOG 20250506-07:58:38] epoch: 4 train-loss: 1.971295157475258\n",
            "[LOG 20250506-07:58:45] epoch: 5 train-loss: 1.8303057669576552\n",
            "[LOG 20250506-07:58:53] epoch: 6 train-loss: 1.6802565746470046\n",
            "[LOG 20250506-07:59:00] epoch: 7 train-loss: 1.535277040528336\n",
            "[LOG 20250506-07:59:08] epoch: 8 train-loss: 1.4042669100039549\n",
            "[LOG 20250506-07:59:15] epoch: 9 train-loss: 1.2910623280986795\n",
            "[LOG 20250506-07:59:25] epoch: 10 train-loss: 1.1974851154823547\n",
            "[LOG 20250506-07:59:33] epoch: 11 train-loss: 1.1212393703745371\n",
            "[LOG 20250506-07:59:41] epoch: 12 train-loss: 1.059409521536024\n",
            "[LOG 20250506-07:59:50] epoch: 13 train-loss: 1.0090275222558711\n",
            "[LOG 20250506-07:59:58] epoch: 14 train-loss: 0.967545359373601\n",
            "[LOG 20250506-08:00:06] epoch: 15 train-loss: 0.9327865846629845\n",
            "[LOG 20250506-08:00:15] epoch: 16 train-loss: 0.9033584895927006\n",
            "[LOG 20250506-08:00:20] epoch: 17 train-loss: 0.8781923184008487\n",
            "[LOG 20250506-08:00:29] epoch: 18 train-loss: 0.8560977182916994\n",
            "[LOG 20250506-08:00:35] epoch: 19 train-loss: 0.8366187180537404\n"
          ]
        }
      ],
      "source": [
        "# init collection of training epoch losses\n",
        "train_epoch_losses = []\n",
        "\n",
        "# set the model in training mode\n",
        "model.train()\n",
        "\n",
        "# train the MNISTNet model\n",
        "for epoch in range(num_epochs):\n",
        "\n",
        "    # init collection of mini-batch losses\n",
        "    train_mini_batch_losses = []\n",
        "\n",
        "    # iterate over all-mini batches\n",
        "    for i, (images, labels) in enumerate(fashion_mnist_train_dataloader):\n",
        "\n",
        "        # push mini-batch data to computation device\n",
        "        images = images.to(device)\n",
        "        labels = labels.to(device)\n",
        "\n",
        "        # run forward pass through the network\n",
        "        output = model(images)\n",
        "\n",
        "        # reset graph gradients\n",
        "        model.zero_grad()\n",
        "\n",
        "        # determine classification loss\n",
        "        loss = ce_loss(output, labels)\n",
        "\n",
        "        # run backward pass\n",
        "        loss.backward()\n",
        "\n",
        "        # update network paramaters\n",
        "        optimizer.step()\n",
        "\n",
        "        # collect mini-batch reconstruction loss\n",
        "        train_mini_batch_losses.append(loss.data.item())\n",
        "\n",
        "    # determine mean min-batch loss of epoch\n",
        "    train_epoch_loss = np.mean(train_mini_batch_losses)\n",
        "\n",
        "    # print epoch loss\n",
        "    now = datetime.utcnow().strftime(\"%Y%m%d-%H:%M:%S\")\n",
        "    print('[LOG {}] epoch: {} train-loss: {}'.format(str(now), str(epoch), str(train_epoch_loss)))\n",
        "\n",
        "    # determine mean min-batch loss of epoch\n",
        "    train_epoch_losses.append(train_epoch_loss)"
      ]
    },
    {
      "cell_type": "markdown",
      "metadata": {
        "id": "8dqoGo_7Ww1m"
      },
      "source": [
        "Upon successfull training let's visualize and inspect the training loss per epoch:"
      ]
    },
    {
      "cell_type": "code",
      "execution_count": 27,
      "metadata": {
        "id": "lLI0Y53VWw1m",
        "metadata": {},
        "colab": {
          "base_uri": "https://localhost:8080/",
          "height": 477
        },
        "outputId": "29ff9c52-dec9-4534-cca2-f6bb829f578a"
      },
      "outputs": [
        {
          "output_type": "display_data",
          "data": {
            "text/plain": [
              "<Figure size 640x480 with 1 Axes>"
            ],
            "image/png": "[encoded data removed]"
          },
          "metadata": {}
        }
      ],
      "source": [
        "# prepare plot\n",
        "fig = plt.figure()\n",
        "ax = fig.add_subplot(111)\n",
        "\n",
        "# add grid\n",
        "ax.grid(linestyle='dotted')\n",
        "\n",
        "# plot the training epochs vs. the epochs' classification error\n",
        "ax.plot(np.array(range(1, len(train_epoch_losses)+1)), train_epoch_losses, label='epoch loss (blue)')\n",
        "\n",
        "# add axis legends\n",
        "ax.set_xlabel(\"[training epoch $e_i$]\", fontsize=10)\n",
        "ax.set_ylabel(\"[Classification Error $\\mathcal{L}^{CE}$]\", fontsize=10)\n",
        "\n",
        "# set plot legend\n",
        "plt.legend(loc=\"upper right\", numpoints=1, fancybox=True)\n",
        "\n",
        "# add plot title\n",
        "plt.title('Training Epochs $e_i$ vs. Classification Error $L^{CE}$', fontsize=10);"
      ]
    },
    {
      "cell_type": "markdown",
      "metadata": {
        "id": "QmkQMB6YWw1n"
      },
      "source": [
        "Ok, fantastic. The training error is nicely going down. We could train the network a couple more epochs until the error converges. But let's stay with the 20 training epochs for now and continue with evaluating our trained model."
      ]
    },
    {
      "cell_type": "markdown",
      "metadata": {
        "id": "8nyWq1X-Ww1n"
      },
      "source": [
        "## 6. Neural Network Model Evaluation"
      ]
    },
    {
      "cell_type": "markdown",
      "metadata": {
        "id": "GaFA9LyRWw1o"
      },
      "source": [
        "To evaluate our trained model, we need to feed the FashionMNIST images reserved for evaluation (the images that we didn't use as part of the training process) through the model. Therefore, let's again define a corresponding PyTorch data loader that feeds the image tensors to our neural network:"
      ]
    },
    {
      "cell_type": "code",
      "execution_count": 28,
      "metadata": {
        "id": "pQB-RFR8Ww1o",
        "metadata": {}
      },
      "outputs": [],
      "source": [
        "fashion_mnist_eval_dataloader = torch.utils.data.DataLoader(fashion_mnist_eval_data, batch_size=10000, shuffle=True)"
      ]
    },
    {
      "cell_type": "markdown",
      "metadata": {
        "id": "OPP7OowBWw1o"
      },
      "source": [
        "We will now evaluate the trained model using the same mini-batch approach as we did throughout the network training and derive the mean cross-entropy loss of the mini-batches:"
      ]
    },
    {
      "cell_type": "code",
      "execution_count": 29,
      "metadata": {
        "id": "xpttWy_AWw1o",
        "metadata": {},
        "colab": {
          "base_uri": "https://localhost:8080/"
        },
        "outputId": "3a1c6ed4-37b8-45ed-8858-b4d14e3a92dd"
      },
      "outputs": [
        {
          "output_type": "stream",
          "name": "stdout",
          "text": [
            "[LOG 20250506-08:00:37] eval-loss: 0.8421702980995178\n"
          ]
        }
      ],
      "source": [
        "# init collection of mini-batch losses\n",
        "eval_mini_batch_losses = []\n",
        "\n",
        "# Set model to eval mode!\n",
        "model.eval()\n",
        "\n",
        "# iterate over all-mini batches\n",
        "for i, (images, labels) in enumerate(fashion_mnist_eval_dataloader):\n",
        "    images, labels = images.to(device), labels.to(device)\n",
        "\n",
        "    # run forward pass through the network\n",
        "    output = model(images)\n",
        "\n",
        "    # determine classification loss\n",
        "    loss = ce_loss(output, labels)\n",
        "\n",
        "    # collect mini-batch reconstruction loss\n",
        "    eval_mini_batch_losses.append(loss.data.item())\n",
        "\n",
        "# determine mean min-batch loss of epoch\n",
        "eval_loss = np.mean(eval_mini_batch_losses)\n",
        "\n",
        "# print epoch loss\n",
        "now = datetime.utcnow().strftime(\"%Y%m%d-%H:%M:%S\")\n",
        "print('[LOG {}] eval-loss: {}'.format(str(now), str(eval_loss)))"
      ]
    },
    {
      "cell_type": "markdown",
      "metadata": {
        "id": "oNwLBDGPWw1p"
      },
      "source": [
        "Ok, great. The evaluation loss looks in-line with our training loss. Let's now inspect a few sample predictions to get an impression of the model quality. Therefore, we will again pick a random image of our evaluation dataset and retrieve its PyTorch tensor as well as the corresponding label:"
      ]
    },
    {
      "cell_type": "code",
      "execution_count": 30,
      "metadata": {
        "id": "JTM5mTHaWw1p",
        "metadata": {}
      },
      "outputs": [],
      "source": [
        "# set (random) image id\n",
        "image_id = 2000\n",
        "\n",
        "# retrieve image exhibiting the image id\n",
        "fashion_mnist_eval_image, fashion_mnist_eval_label = fashion_mnist_eval_data[image_id]"
      ]
    },
    {
      "cell_type": "markdown",
      "metadata": {
        "id": "wkZowxdUWw1p"
      },
      "source": [
        "Let's now inspect the true class of the image we selected:"
      ]
    },
    {
      "cell_type": "code",
      "execution_count": 31,
      "metadata": {
        "id": "IIq9uSnfWw1q",
        "metadata": {},
        "colab": {
          "base_uri": "https://localhost:8080/",
          "height": 36
        },
        "outputId": "8dd4eb24-a7d0-4a53-f1bb-01d2b985be06"
      },
      "outputs": [
        {
          "output_type": "execute_result",
          "data": {
            "text/plain": [
              "'Bag'"
            ],
            "application/vnd.google.colaboratory.intrinsic+json": {
              "type": "string"
            }
          },
          "metadata": {},
          "execution_count": 31
        }
      ],
      "source": [
        "fashion_classes[fashion_mnist_eval_label]"
      ]
    },
    {
      "cell_type": "markdown",
      "metadata": {
        "id": "Hjz4GOpyWw1q"
      },
      "source": [
        "Ok, the randomly selected image should contain a bag. Let's inspect the image accordingly:"
      ]
    },
    {
      "cell_type": "code",
      "execution_count": 32,
      "metadata": {
        "id": "m1hZMQ6oWw1r",
        "metadata": {},
        "colab": {
          "base_uri": "https://localhost:8080/",
          "height": 470
        },
        "outputId": "3daddc5f-ab50-47fe-f070-93ce2d1b35a7"
      },
      "outputs": [
        {
          "output_type": "execute_result",
          "data": {
            "text/plain": [
              "<matplotlib.image.AxesImage at 0x78ffa015d410>"
            ]
          },
          "metadata": {},
          "execution_count": 32
        },
        {
          "output_type": "display_data",
          "data": {
            "text/plain": [
              "<Figure size 640x480 with 1 Axes>"
            ],
            "image/png": "[encoded data removed]"
          },
          "metadata": {}
        }
      ],
      "source": [
        "# define tensor to image transformation\n",
        "trans = torchvision.transforms.ToPILImage()\n",
        "\n",
        "# set image plot title\n",
        "plt.title('Example: {}, Label: {}'.format(str(image_id), fashion_classes[fashion_mnist_eval_label]))\n",
        "\n",
        "# plot mnist handwritten digit sample\n",
        "plt.imshow(trans(fashion_mnist_eval_image), cmap='gray')"
      ]
    },
    {
      "cell_type": "markdown",
      "metadata": {
        "id": "yFW-PYEnWw1r"
      },
      "source": [
        "Let's compare the true label with the prediction of our model:"
      ]
    },
    {
      "cell_type": "code",
      "execution_count": 33,
      "metadata": {
        "id": "hfaV80IpWw1s",
        "metadata": {},
        "colab": {
          "base_uri": "https://localhost:8080/"
        },
        "outputId": "b44086e9-f4a5-4f88-9a24-6bfee82de529"
      },
      "outputs": [
        {
          "output_type": "stream",
          "name": "stdout",
          "text": [
            "tensor([[3.6608e-03, 6.6032e-04, 2.7058e-02, 2.0899e-02, 5.3065e-02, 3.8880e-02,\n",
            "         2.9954e-02, 7.6813e-03, 8.0472e-01, 1.3419e-02]], device='cuda:0',\n",
            "       grad_fn=<SoftmaxBackward0>)\n"
          ]
        }
      ],
      "source": [
        "fashion_mnist_eval_image = fashion_mnist_eval_image.to(device)\n",
        "pred = nn.functional.softmax(model(fashion_mnist_eval_image), dim=1)\n",
        "print(pred)"
      ]
    },
    {
      "cell_type": "markdown",
      "metadata": {
        "id": "mNFAM_deWw1s"
      },
      "source": [
        "We can even determine the likelihood of the most probable class:"
      ]
    },
    {
      "cell_type": "code",
      "execution_count": 34,
      "metadata": {
        "id": "A2knLiUqWw1t",
        "metadata": {},
        "colab": {
          "base_uri": "https://localhost:8080/"
        },
        "outputId": "09c12fe5-ad32-4960-b49d-daece953b2fb"
      },
      "outputs": [
        {
          "output_type": "stream",
          "name": "stdout",
          "text": [
            "Most probable class: 8\n",
            "This class represents the following fashion article: Bag\n"
          ]
        }
      ],
      "source": [
        "most_probable = torch.argmax(pred, dim=1).item()\n",
        "print('Most probable class: {}'.format(most_probable))\n",
        "print('This class represents the following fashion article: {}'.format(fashion_classes[most_probable]))"
      ]
    },
    {
      "cell_type": "markdown",
      "metadata": {
        "id": "jwOIf2adWw1t"
      },
      "source": [
        "Let's now obtain the predictions for all the fashion item images of the evaluation data:"
      ]
    },
    {
      "cell_type": "code",
      "execution_count": 35,
      "metadata": {
        "id": "YRmjfYDZWw1t",
        "metadata": {}
      },
      "outputs": [],
      "source": [
        "predictions = torch.argmax(model(fashion_mnist_eval_data.data.float().to(device)), dim=1)"
      ]
    },
    {
      "cell_type": "markdown",
      "metadata": {
        "id": "eFKiMKw-Ww1t"
      },
      "source": [
        "Furthermore, let's obtain the overall classifcation accuracy:"
      ]
    },
    {
      "cell_type": "code",
      "execution_count": 36,
      "metadata": {
        "id": "BvV-HLcsWw1t",
        "metadata": {},
        "colab": {
          "base_uri": "https://localhost:8080/"
        },
        "outputId": "ea22f582-1dac-4721-bb65-e755bb96c16e"
      },
      "outputs": [
        {
          "output_type": "execute_result",
          "data": {
            "text/plain": [
              "0.6697"
            ]
          },
          "metadata": {},
          "execution_count": 36
        }
      ],
      "source": [
        "metrics.accuracy_score(fashion_mnist_eval_data.targets, predictions.detach().cpu())"
      ]
    },
    {
      "cell_type": "markdown",
      "metadata": {
        "id": "6B-KdgKNWw1u"
      },
      "source": [
        "Let's also inspect the confusion matrix to determine major sources of misclassification:"
      ]
    },
    {
      "cell_type": "code",
      "execution_count": 37,
      "metadata": {
        "id": "w5LkSBwpWw1u",
        "metadata": {},
        "colab": {
          "base_uri": "https://localhost:8080/",
          "height": 714
        },
        "outputId": "f1b37f1c-828c-4403-a16d-6e158bd59590"
      },
      "outputs": [
        {
          "output_type": "display_data",
          "data": {
            "text/plain": [
              "<Figure size 800x800 with 1 Axes>"
            ],
            "image/png": "[encoded data removed]"
          },
          "metadata": {}
        }
      ],
      "source": [
        "# determine classification matrix of the predicted and target classes\n",
        "mat = confusion_matrix(fashion_mnist_eval_data.targets, predictions.detach().cpu())\n",
        "\n",
        "# initialize the plot and define size\n",
        "plt.figure(figsize=(8, 8))\n",
        "\n",
        "# plot corresponding confusion matrix\n",
        "sns.heatmap(mat.T, square=True, annot=True, fmt='d', cbar=False, cmap='YlOrRd_r', xticklabels=fashion_classes.values(), yticklabels=fashion_classes.values())\n",
        "plt.tick_params(axis='both', which='major', labelsize=8, labelbottom = False, bottom=False, top = False, left = False, labeltop=True)\n",
        "\n",
        "# set plot title\n",
        "plt.title('Fashion MNIST classification matrix')\n",
        "\n",
        "# set axis labels\n",
        "plt.xlabel('[true label]')\n",
        "plt.ylabel('[predicted label]');"
      ]
    },
    {
      "cell_type": "markdown",
      "metadata": {
        "id": "Ob6vR-e3Ww1u"
      },
      "source": [
        "Ok, we can easily see that our current model confuses sandals with either sneakers or ankle boots. However, the inverse does not really hold. The model sometimes confuses sneakers with ankle boots, and only very rarely with sandals. The same holds ankle boots. Our model also has issues distinguishing shirts from coats (and, to a lesser degree, from T-shirts and pullovers).\n",
        "\n",
        "These mistakes are not very surprising, as these items exhibit a high similarity."
      ]
    },
    {
      "cell_type": "markdown",
      "metadata": {
        "id": "e1l8HbUzWw1v"
      },
      "source": [
        "## 7. Lab Summary:"
      ]
    },
    {
      "cell_type": "markdown",
      "metadata": {
        "id": "S3P5e48aWw1w"
      },
      "source": [
        "In this lab, a step by step introduction into the **design, implementation, training and evaluation** of neural networks to classify images of fashion items is presented. The code and exercises presented in this lab may serves as a starting point for developing more complex, more deep and tailored **neural networks**."
      ]
    }
  ],
  "metadata": {
    "accelerator": "GPU",
    "colab": {
      "provenance": [],
      "toc_visible": true
    },
    "kernelspec": {
      "display_name": "Python 3 (ipykernel)",
      "language": "python",
      "name": "python3"
    },
    "language_info": {
      "codemirror_mode": {
        "name": "ipython",
        "version": 3
      },
      "file_extension": ".py",
      "mimetype": "text/x-python",
      "name": "python",
      "nbconvert_exporter": "python",
      "pygments_lexer": "ipython3",
      "version": "3.9.18"
    },
    "toc": {
      "base_numbering": 1,
      "nav_menu": {},
      "number_sections": false,
      "sideBar": true,
      "skip_h1_title": false,
      "title_cell": "Table of Contents",
      "title_sidebar": "Contents",
      "toc_cell": false,
      "toc_position": {
        "height": "calc(100% - 180px)",
        "left": "10px",
        "top": "150px",
        "width": "225px"
      },
      "toc_section_display": true,
      "toc_window_display": false
    }
  },
  "nbformat": 4,
  "nbformat_minor": 0
}
